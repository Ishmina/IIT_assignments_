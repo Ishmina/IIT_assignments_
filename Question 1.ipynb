{
 "cells": [
  {
   "cell_type": "raw",
   "id": "8c79c3be-10e2-4a43-bba1-c51387d197a7",
   "metadata": {},
   "source": [
    "The MNIST dataset consists of 70,000 images of handwritten digits, where \r\n",
    "each image is 28x28 pixels. Classify each image into one of the 10 classes \r\n",
    "(digits 0-9  \r\n",
    "A. Using a Multi-Layer Perceptron (MLP) classifier \r\n",
    "B. Using a Convolutional Neural Network (CNN) classifier "
   ]
  },
  {
   "cell_type": "code",
   "execution_count": 1,
   "id": "74de50c2-b173-453a-95ca-299d2d46a873",
   "metadata": {},
   "outputs": [],
   "source": [
    "from tensorflow.keras.datasets import mnist\n",
    "from tensorflow.keras.utils import to_categorical\n",
    "\n",
    "# Load dataset\n",
    "(x_train, y_train), (x_test, y_test) = mnist.load_data()\n",
    "\n",
    "# Normalize the pixel values (0–255 to 0–1)\n",
    "x_train = x_train.astype(\"float32\") / 255.0\n",
    "x_test = x_test.astype(\"float32\") / 255.0"
   ]
  },
  {
   "cell_type": "markdown",
   "id": "80bae3da-ff47-48f5-b8d5-0580fe181f96",
   "metadata": {},
   "source": [
    "# A. Using a Multi-Layer Perceptron (MLP) classifier"
   ]
  },
  {
   "cell_type": "markdown",
   "id": "55f73e74-8b8d-4190-9b5c-c7f4a2870fc3",
   "metadata": {},
   "source": [
    "## Step A1: Preprocess Data for MLP"
   ]
  },
  {
   "cell_type": "code",
   "execution_count": 2,
   "id": "f871a5d0-2e73-4474-b2dd-792ee4e858f9",
   "metadata": {},
   "outputs": [],
   "source": [
    "# Flatten images from 28x28 to 784\n",
    "x_train_flat = x_train.reshape((60000, 28*28))\n",
    "x_test_flat = x_test.reshape((10000, 28*28))\n",
    "\n",
    "# One-hot encode labels (e.g., 5 → [0 0 0 0 0 1 0 0 0 0])\n",
    "y_train_cat = to_categorical(y_train)\n",
    "y_test_cat = to_categorical(y_test)\n"
   ]
  },
  {
   "cell_type": "markdown",
   "id": "a354d03b-8761-4823-82ff-49fc9ec8157c",
   "metadata": {},
   "source": [
    "## Step A2: Build the MLP Model"
   ]
  },
  {
   "cell_type": "code",
   "execution_count": 3,
   "id": "197e91d0-fd6a-4a51-a7f8-f2c9bf9992ee",
   "metadata": {},
   "outputs": [],
   "source": [
    "from tensorflow.keras.models import Sequential\n",
    "from tensorflow.keras.layers import Input, Dense\n",
    "\n",
    "mlp_model = Sequential([\n",
    "    Input(shape=(784,)),               # Input layer\n",
    "    Dense(128, activation='relu'),     # Hidden layer\n",
    "    Dense(64, activation='relu'),      # Hidden layer\n",
    "    Dense(10, activation='softmax')    # Output layer\n",
    "])\n"
   ]
  },
  {
   "cell_type": "markdown",
   "id": "df4d0232-7ed2-407a-b811-3cf0339b9711",
   "metadata": {},
   "source": [
    "## Step A3: Compile and Train"
   ]
  },
  {
   "cell_type": "code",
   "execution_count": 4,
   "id": "13fe57f1-377f-426b-8633-ec46b67ce087",
   "metadata": {},
   "outputs": [
    {
     "name": "stdout",
     "output_type": "stream",
     "text": [
      "Epoch 1/5\n",
      "\u001b[1m375/375\u001b[0m \u001b[32m━━━━━━━━━━━━━━━━━━━━\u001b[0m\u001b[37m\u001b[0m \u001b[1m2s\u001b[0m 3ms/step - accuracy: 0.8024 - loss: 0.6951 - val_accuracy: 0.9451 - val_loss: 0.1933\n",
      "Epoch 2/5\n",
      "\u001b[1m375/375\u001b[0m \u001b[32m━━━━━━━━━━━━━━━━━━━━\u001b[0m\u001b[37m\u001b[0m \u001b[1m1s\u001b[0m 2ms/step - accuracy: 0.9512 - loss: 0.1698 - val_accuracy: 0.9588 - val_loss: 0.1423\n",
      "Epoch 3/5\n",
      "\u001b[1m375/375\u001b[0m \u001b[32m━━━━━━━━━━━━━━━━━━━━\u001b[0m\u001b[37m\u001b[0m \u001b[1m1s\u001b[0m 2ms/step - accuracy: 0.9662 - loss: 0.1141 - val_accuracy: 0.9645 - val_loss: 0.1206\n",
      "Epoch 4/5\n",
      "\u001b[1m375/375\u001b[0m \u001b[32m━━━━━━━━━━━━━━━━━━━━\u001b[0m\u001b[37m\u001b[0m \u001b[1m1s\u001b[0m 2ms/step - accuracy: 0.9751 - loss: 0.0859 - val_accuracy: 0.9637 - val_loss: 0.1153\n",
      "Epoch 5/5\n",
      "\u001b[1m375/375\u001b[0m \u001b[32m━━━━━━━━━━━━━━━━━━━━\u001b[0m\u001b[37m\u001b[0m \u001b[1m1s\u001b[0m 2ms/step - accuracy: 0.9809 - loss: 0.0651 - val_accuracy: 0.9685 - val_loss: 0.1042\n"
     ]
    },
    {
     "data": {
      "text/plain": [
       "<keras.src.callbacks.history.History at 0x2a2e27c9290>"
      ]
     },
     "execution_count": 4,
     "metadata": {},
     "output_type": "execute_result"
    }
   ],
   "source": [
    "mlp_model.compile(optimizer='adam', loss='categorical_crossentropy', metrics=['accuracy'])\n",
    "mlp_model.fit(x_train_flat, y_train_cat, epochs=5, batch_size=128, validation_split=0.2)\n"
   ]
  },
  {
   "cell_type": "markdown",
   "id": "d25d2b45-5438-4ce5-9fde-9f849ea50d75",
   "metadata": {},
   "source": [
    "## Step A4: Evaluate MLP"
   ]
  },
  {
   "cell_type": "code",
   "execution_count": 5,
   "id": "843d33cd-b1eb-4bd8-b217-a66ed161a50f",
   "metadata": {},
   "outputs": [
    {
     "name": "stdout",
     "output_type": "stream",
     "text": [
      "\u001b[1m313/313\u001b[0m \u001b[32m━━━━━━━━━━━━━━━━━━━━\u001b[0m\u001b[37m\u001b[0m \u001b[1m0s\u001b[0m 940us/step - accuracy: 0.9660 - loss: 0.1062\n",
      "MLP Test Accuracy: 97.03 %\n"
     ]
    }
   ],
   "source": [
    "test_loss, test_acc = mlp_model.evaluate(x_test_flat, y_test_cat)\n",
    "print(f\"MLP Test Accuracy: {test_acc * 100:.2f} %\")\n"
   ]
  },
  {
   "cell_type": "markdown",
   "id": "5f472769-1a5e-45bf-9d22-88de42f0e253",
   "metadata": {},
   "source": [
    "# B. Using a Convolutional Neural Network (CNN) classifier "
   ]
  },
  {
   "cell_type": "markdown",
   "id": "9610fa90-af30-46df-9cfc-775421bfcc14",
   "metadata": {},
   "source": [
    "## Step B1: Preprocess Data for CNN"
   ]
  },
  {
   "cell_type": "code",
   "execution_count": 6,
   "id": "4b0f193b-6788-471e-b582-621387b903b2",
   "metadata": {},
   "outputs": [],
   "source": [
    "# Reshape images to add channel dimension\n",
    "x_train_cnn = x_train.reshape((60000, 28, 28, 1))\n",
    "x_test_cnn = x_test.reshape((10000, 28, 28, 1))\n"
   ]
  },
  {
   "cell_type": "markdown",
   "id": "80851a0a-982c-444b-a8ea-50ecfe4ac04b",
   "metadata": {},
   "source": [
    "## Step B2: Build the CNN Model"
   ]
  },
  {
   "cell_type": "code",
   "execution_count": 7,
   "id": "c152e7b1-1881-4941-aa50-ee0670b5bf3d",
   "metadata": {},
   "outputs": [],
   "source": [
    "from tensorflow.keras.models import Sequential\n",
    "from tensorflow.keras.layers import Input, Conv2D, MaxPooling2D, Flatten, Dense\n",
    "\n",
    "cnn_model = Sequential([\n",
    "    Input(shape=(28, 28, 1)),                  \n",
    "    Conv2D(32, (3, 3), activation='relu'),\n",
    "    MaxPooling2D((2, 2)),\n",
    "    Conv2D(64, (3, 3), activation='relu'),\n",
    "    MaxPooling2D((2, 2)),\n",
    "    Flatten(),\n",
    "    Dense(64, activation='relu'),\n",
    "    Dense(10, activation='softmax')\n",
    "])\n",
    "\n"
   ]
  },
  {
   "cell_type": "markdown",
   "id": "1e62e891-4a07-4669-aac9-69e6230ac044",
   "metadata": {},
   "source": [
    "## Step B3: Compile and Train"
   ]
  },
  {
   "cell_type": "code",
   "execution_count": 8,
   "id": "dc7b49d8-d11d-48f8-beeb-d5a9cce8d48e",
   "metadata": {},
   "outputs": [
    {
     "name": "stdout",
     "output_type": "stream",
     "text": [
      "Epoch 1/5\n",
      "\u001b[1m375/375\u001b[0m \u001b[32m━━━━━━━━━━━━━━━━━━━━\u001b[0m\u001b[37m\u001b[0m \u001b[1m7s\u001b[0m 16ms/step - accuracy: 0.8361 - loss: 0.5891 - val_accuracy: 0.9747 - val_loss: 0.0908\n",
      "Epoch 2/5\n",
      "\u001b[1m375/375\u001b[0m \u001b[32m━━━━━━━━━━━━━━━━━━━━\u001b[0m\u001b[37m\u001b[0m \u001b[1m6s\u001b[0m 15ms/step - accuracy: 0.9761 - loss: 0.0806 - val_accuracy: 0.9810 - val_loss: 0.0650\n",
      "Epoch 3/5\n",
      "\u001b[1m375/375\u001b[0m \u001b[32m━━━━━━━━━━━━━━━━━━━━\u001b[0m\u001b[37m\u001b[0m \u001b[1m6s\u001b[0m 15ms/step - accuracy: 0.9832 - loss: 0.0520 - val_accuracy: 0.9836 - val_loss: 0.0569\n",
      "Epoch 4/5\n",
      "\u001b[1m375/375\u001b[0m \u001b[32m━━━━━━━━━━━━━━━━━━━━\u001b[0m\u001b[37m\u001b[0m \u001b[1m6s\u001b[0m 15ms/step - accuracy: 0.9871 - loss: 0.0402 - val_accuracy: 0.9828 - val_loss: 0.0523\n",
      "Epoch 5/5\n",
      "\u001b[1m375/375\u001b[0m \u001b[32m━━━━━━━━━━━━━━━━━━━━\u001b[0m\u001b[37m\u001b[0m \u001b[1m5s\u001b[0m 14ms/step - accuracy: 0.9894 - loss: 0.0325 - val_accuracy: 0.9866 - val_loss: 0.0461\n"
     ]
    },
    {
     "data": {
      "text/plain": [
       "<keras.src.callbacks.history.History at 0x2a2e39f6d10>"
      ]
     },
     "execution_count": 8,
     "metadata": {},
     "output_type": "execute_result"
    }
   ],
   "source": [
    "cnn_model.compile(optimizer='adam', loss='categorical_crossentropy', metrics=['accuracy'])\n",
    "cnn_model.fit(x_train_cnn, y_train_cat, epochs=5, batch_size=128, validation_split=0.2)\n"
   ]
  },
  {
   "cell_type": "markdown",
   "id": "42d8f6ea-6b36-4b7f-bb45-752f7090e290",
   "metadata": {},
   "source": [
    "## Step B4: Evaluate CNN"
   ]
  },
  {
   "cell_type": "code",
   "execution_count": 9,
   "id": "812fb858-0717-4b0a-8f0e-5242f18b0f1a",
   "metadata": {},
   "outputs": [
    {
     "name": "stdout",
     "output_type": "stream",
     "text": [
      "\u001b[1m313/313\u001b[0m \u001b[32m━━━━━━━━━━━━━━━━━━━━\u001b[0m\u001b[37m\u001b[0m \u001b[1m1s\u001b[0m 2ms/step - accuracy: 0.9846 - loss: 0.0455\n",
      "CNN Test Accuracy: 98.81 %\n"
     ]
    }
   ],
   "source": [
    "test_loss_cnn, test_acc_cnn = cnn_model.evaluate(x_test_cnn, y_test_cat)\n",
    "print(f\"CNN Test Accuracy: {test_acc_cnn * 100:.2f} %\")\n"
   ]
  },
  {
   "cell_type": "markdown",
   "id": "3bc6daa8-23e5-4256-ab5a-d558c7a7ea1a",
   "metadata": {},
   "source": [
    "# Predict and Visualize a Digit"
   ]
  },
  {
   "cell_type": "code",
   "execution_count": 10,
   "id": "26da50f1-411c-4f6f-b7d0-4ce14413bb22",
   "metadata": {},
   "outputs": [
    {
     "name": "stdout",
     "output_type": "stream",
     "text": [
      "\u001b[1m1/1\u001b[0m \u001b[32m━━━━━━━━━━━━━━━━━━━━\u001b[0m\u001b[37m\u001b[0m \u001b[1m0s\u001b[0m 73ms/step\n"
     ]
    },
    {
     "data": {
      "image/png": "[encoded data removed]",
      "text/plain": [
       "<Figure size 640x480 with 1 Axes>"
      ]
     },
     "metadata": {},
     "output_type": "display_data"
    }
   ],
   "source": [
    "import matplotlib.pyplot as plt\n",
    "import numpy as np\n",
    "\n",
    "# Predict one image\n",
    "image_index = 1267\n",
    "img = x_test_cnn[image_index].reshape(1, 28, 28, 1)\n",
    "prediction = cnn_model.predict(img)\n",
    "predicted_label = np.argmax(prediction)\n",
    "\n",
    "# Show image\n",
    "plt.imshow(x_test[image_index], cmap='gray')\n",
    "plt.title(f\"Predicted: {predicted_label}\")\n",
    "plt.axis('off')\n",
    "plt.show()\n"
   ]
  },
  {
   "cell_type": "code",
   "execution_count": null,
   "id": "3852acbd-0820-4760-a09a-3db035d7b958",
   "metadata": {},
   "outputs": [],
   "source": []
  }
 ],
 "metadata": {
  "kernelspec": {
   "display_name": "Python 3 (ipykernel)",
   "language": "python",
   "name": "python3"
  },
  "language_info": {
   "codemirror_mode": {
    "name": "ipython",
    "version": 3
   },
   "file_extension": ".py",
   "mimetype": "text/x-python",
   "name": "python",
   "nbconvert_exporter": "python",
   "pygments_lexer": "ipython3",
   "version": "3.11.7"
  }
 },
 "nbformat": 4,
 "nbformat_minor": 5
}
