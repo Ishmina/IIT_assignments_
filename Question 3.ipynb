{
 "cells": [
  {
   "cell_type": "raw",
   "id": "a7965296-8fe0-4060-ae23-763ab5d28b47",
   "metadata": {
    "id": "a7965296-8fe0-4060-ae23-763ab5d28b47"
   },
   "source": [
    "The CIFAR-10 dataset consists of 60,000 32x32 color images in 10 classes,\n",
    "with 6,000 images per class. Classify each image into one of the 10 classes.\n",
    "\n",
    "A. Using a Convolutional Neural Network (CNN) classifier\n",
    "B. Using an AlexNet classifier\n",
    "C. Using a pre-trained ResNet model\n",
    "D. Using a pre-trained Inception model\n",
    "E. Provided a specific neural network architecture, train the CIFAR-10\n",
    "dataset to classify"
   ]
  },
  {
   "cell_type": "code",
   "execution_count": 1,
   "id": "624bc894-dad9-4b61-8698-5a5f2c0a50e4",
   "metadata": {
    "colab": {
     "base_uri": "https://localhost:8080/"
    },
    "executionInfo": {
     "elapsed": 12877,
     "status": "ok",
     "timestamp": 1750956016206,
     "user": {
      "displayName": "Deepak Kalita",
      "userId": "08467293064898307531"
     },
     "user_tz": -330
    },
    "id": "624bc894-dad9-4b61-8698-5a5f2c0a50e4",
    "outputId": "ba1a964e-7288-422d-80f5-c3d524968d73"
   },
   "outputs": [
    {
     "name": "stdout",
     "output_type": "stream",
     "text": [
      "Downloading data from https://www.cs.toronto.edu/~kriz/cifar-10-python.tar.gz\n",
      "\u001b[1m170498071/170498071\u001b[0m \u001b[32m━━━━━━━━━━━━━━━━━━━━\u001b[0m\u001b[37m\u001b[0m \u001b[1m4s\u001b[0m 0us/step\n"
     ]
    }
   ],
   "source": [
    "import tensorflow as tf\n",
    "from tensorflow.keras import layers, models\n",
    "from tensorflow.keras.datasets import cifar10\n",
    "from tensorflow.keras.utils import to_categorical\n",
    "import numpy as np\n",
    "\n",
    "# Load and preprocess data\n",
    "(x_train, y_train), (x_test, y_test) = cifar10.load_data()\n",
    "x_train, x_test = x_train/255.0, x_test/255.0\n",
    "y_train_cat = to_categorical(y_train, 10)\n",
    "y_test_cat = to_categorical(y_test, 10)"
   ]
  },
  {
   "cell_type": "markdown",
   "id": "68f1d4ba-af70-466c-9db2-43ece62cb64d",
   "metadata": {
    "id": "68f1d4ba-af70-466c-9db2-43ece62cb64d"
   },
   "source": [
    "# CNN Classifier"
   ]
  },
  {
   "cell_type": "code",
   "execution_count": 2,
   "id": "03e96a53-d34d-48c5-adf2-75e15df8b3fc",
   "metadata": {
    "colab": {
     "base_uri": "https://localhost:8080/"
    },
    "executionInfo": {
     "elapsed": 33170,
     "status": "ok",
     "timestamp": 1750956049379,
     "user": {
      "displayName": "Deepak Kalita",
      "userId": "08467293064898307531"
     },
     "user_tz": -330
    },
    "id": "03e96a53-d34d-48c5-adf2-75e15df8b3fc",
    "outputId": "e73a469e-6be9-4ec6-e05b-609befd92e04"
   },
   "outputs": [
    {
     "name": "stderr",
     "output_type": "stream",
     "text": [
      "/usr/local/lib/python3.11/dist-packages/keras/src/layers/convolutional/base_conv.py:107: UserWarning: Do not pass an `input_shape`/`input_dim` argument to a layer. When using Sequential models, prefer using an `Input(shape)` object as the first layer in the model instead.\n",
      "  super().__init__(activity_regularizer=activity_regularizer, **kwargs)\n"
     ]
    },
    {
     "name": "stdout",
     "output_type": "stream",
     "text": [
      "Epoch 1/5\n",
      "\u001b[1m782/782\u001b[0m \u001b[32m━━━━━━━━━━━━━━━━━━━━\u001b[0m\u001b[37m\u001b[0m \u001b[1m10s\u001b[0m 8ms/step - accuracy: 0.3651 - loss: 1.7348 - val_accuracy: 0.5450 - val_loss: 1.2711\n",
      "Epoch 2/5\n",
      "\u001b[1m782/782\u001b[0m \u001b[32m━━━━━━━━━━━━━━━━━━━━\u001b[0m\u001b[37m\u001b[0m \u001b[1m5s\u001b[0m 4ms/step - accuracy: 0.5767 - loss: 1.2072 - val_accuracy: 0.6083 - val_loss: 1.1255\n",
      "Epoch 3/5\n",
      "\u001b[1m782/782\u001b[0m \u001b[32m━━━━━━━━━━━━━━━━━━━━\u001b[0m\u001b[37m\u001b[0m \u001b[1m3s\u001b[0m 4ms/step - accuracy: 0.6334 - loss: 1.0531 - val_accuracy: 0.6419 - val_loss: 1.0177\n",
      "Epoch 4/5\n",
      "\u001b[1m782/782\u001b[0m \u001b[32m━━━━━━━━━━━━━━━━━━━━\u001b[0m\u001b[37m\u001b[0m \u001b[1m6s\u001b[0m 5ms/step - accuracy: 0.6704 - loss: 0.9662 - val_accuracy: 0.6616 - val_loss: 0.9758\n",
      "Epoch 5/5\n",
      "\u001b[1m782/782\u001b[0m \u001b[32m━━━━━━━━━━━━━━━━━━━━\u001b[0m\u001b[37m\u001b[0m \u001b[1m3s\u001b[0m 4ms/step - accuracy: 0.6916 - loss: 0.8933 - val_accuracy: 0.6773 - val_loss: 0.9466\n"
     ]
    },
    {
     "data": {
      "text/plain": [
       "<keras.src.callbacks.history.History at 0x7dfa30196dd0>"
      ]
     },
     "execution_count": 2,
     "metadata": {},
     "output_type": "execute_result"
    }
   ],
   "source": [
    "def build_cnn_model():\n",
    "    model = models.Sequential([\n",
    "        layers.Conv2D(32, (3, 3), activation='relu', input_shape=(32, 32, 3)),\n",
    "        layers.MaxPooling2D((2, 2)),\n",
    "        layers.Conv2D(64, (3, 3), activation='relu'),\n",
    "        layers.MaxPooling2D((2, 2)),\n",
    "        layers.Flatten(),\n",
    "        layers.Dense(64, activation='relu'),\n",
    "        layers.Dense(10, activation='softmax')\n",
    "    ])\n",
    "    return model\n",
    "\n",
    "cnn_model = build_cnn_model()\n",
    "cnn_model.compile(optimizer='adam', loss='categorical_crossentropy', metrics=['accuracy'])\n",
    "cnn_model.fit(x_train, y_train_cat, epochs=5, batch_size=64, validation_data=(x_test, y_test_cat))\n"
   ]
  },
  {
   "cell_type": "markdown",
   "id": "1bb30bdd-9292-4ba9-b163-47461ea56050",
   "metadata": {
    "id": "1bb30bdd-9292-4ba9-b163-47461ea56050"
   },
   "source": [
    "# AlexNet Classifier"
   ]
  },
  {
   "cell_type": "code",
   "execution_count": 3,
   "id": "79dfcf75-ce40-4bd0-ab30-0fa80c8ef233",
   "metadata": {
    "colab": {
     "base_uri": "https://localhost:8080/"
    },
    "executionInfo": {
     "elapsed": 66379,
     "status": "ok",
     "timestamp": 1750956115760,
     "user": {
      "displayName": "Deepak Kalita",
      "userId": "08467293064898307531"
     },
     "user_tz": -330
    },
    "id": "79dfcf75-ce40-4bd0-ab30-0fa80c8ef233",
    "outputId": "ac7c9e2c-b687-46f0-ae51-ff026afdb563"
   },
   "outputs": [
    {
     "name": "stdout",
     "output_type": "stream",
     "text": [
      "Epoch 1/5\n",
      "\u001b[1m782/782\u001b[0m \u001b[32m━━━━━━━━━━━━━━━━━━━━\u001b[0m\u001b[37m\u001b[0m \u001b[1m26s\u001b[0m 21ms/step - accuracy: 0.2754 - loss: 1.9117 - val_accuracy: 0.3463 - val_loss: 1.9091\n",
      "Epoch 2/5\n",
      "\u001b[1m782/782\u001b[0m \u001b[32m━━━━━━━━━━━━━━━━━━━━\u001b[0m\u001b[37m\u001b[0m \u001b[1m10s\u001b[0m 12ms/step - accuracy: 0.4738 - loss: 1.4742 - val_accuracy: 0.4764 - val_loss: 1.5036\n",
      "Epoch 3/5\n",
      "\u001b[1m782/782\u001b[0m \u001b[32m━━━━━━━━━━━━━━━━━━━━\u001b[0m\u001b[37m\u001b[0m \u001b[1m10s\u001b[0m 12ms/step - accuracy: 0.5412 - loss: 1.2986 - val_accuracy: 0.5234 - val_loss: 1.3815\n",
      "Epoch 4/5\n",
      "\u001b[1m782/782\u001b[0m \u001b[32m━━━━━━━━━━━━━━━━━━━━\u001b[0m\u001b[37m\u001b[0m \u001b[1m10s\u001b[0m 12ms/step - accuracy: 0.5933 - loss: 1.1717 - val_accuracy: 0.5664 - val_loss: 1.2685\n",
      "Epoch 5/5\n",
      "\u001b[1m782/782\u001b[0m \u001b[32m━━━━━━━━━━━━━━━━━━━━\u001b[0m\u001b[37m\u001b[0m \u001b[1m10s\u001b[0m 12ms/step - accuracy: 0.6316 - loss: 1.0738 - val_accuracy: 0.5741 - val_loss: 1.2892\n"
     ]
    },
    {
     "data": {
      "text/plain": [
       "<keras.src.callbacks.history.History at 0x7dfa2c4bf750>"
      ]
     },
     "execution_count": 3,
     "metadata": {},
     "output_type": "execute_result"
    }
   ],
   "source": [
    "def build_alexnet_model():\n",
    "    model = models.Sequential([\n",
    "        layers.Conv2D(96, (11, 11), strides=(4, 4), activation='relu', input_shape=(32, 32, 3), padding='same'),\n",
    "        layers.BatchNormalization(),\n",
    "        layers.MaxPooling2D((2, 2)),\n",
    "\n",
    "        layers.Conv2D(256, (5, 5), activation='relu', padding='same'),\n",
    "        layers.BatchNormalization(),\n",
    "        layers.MaxPooling2D((2, 2)),\n",
    "\n",
    "        layers.Conv2D(384, (3, 3), activation='relu', padding='same'),\n",
    "        layers.Conv2D(384, (3, 3), activation='relu', padding='same'),\n",
    "        layers.Conv2D(256, (3, 3), activation='relu', padding='same'),\n",
    "        layers.MaxPooling2D((2, 2)),\n",
    "\n",
    "        layers.Flatten(),\n",
    "        layers.Dense(4096, activation='relu'),\n",
    "        layers.Dropout(0.5),\n",
    "        layers.Dense(4096, activation='relu'),\n",
    "        layers.Dropout(0.5),\n",
    "        layers.Dense(10, activation='softmax')\n",
    "    ])\n",
    "    return model\n",
    "\n",
    "alexnet_model = build_alexnet_model()\n",
    "alexnet_model.compile(optimizer='adam', loss='categorical_crossentropy', metrics=['accuracy'])\n",
    "alexnet_model.fit(x_train, y_train_cat, epochs=5, batch_size=64, validation_data=(x_test, y_test_cat))\n"
   ]
  },
  {
   "cell_type": "markdown",
   "id": "3305cd4f-52d6-4008-aa56-3cfe175ab444",
   "metadata": {
    "id": "3305cd4f-52d6-4008-aa56-3cfe175ab444"
   },
   "source": [
    "# Pre-trained ResNet Model"
   ]
  },
  {
   "cell_type": "code",
   "execution_count": 4,
   "id": "69753f23-2f9f-4953-89a3-4627084bab2f",
   "metadata": {
    "colab": {
     "base_uri": "https://localhost:8080/"
    },
    "executionInfo": {
     "elapsed": 765254,
     "status": "ok",
     "timestamp": 1750957032824,
     "user": {
      "displayName": "Deepak Kalita",
      "userId": "08467293064898307531"
     },
     "user_tz": -330
    },
    "id": "69753f23-2f9f-4953-89a3-4627084bab2f",
    "outputId": "57b544e5-bccd-43d8-c79d-dd012249b993"
   },
   "outputs": [
    {
     "name": "stdout",
     "output_type": "stream",
     "text": [
      "Downloading data from https://storage.googleapis.com/tensorflow/keras-applications/resnet/resnet50_weights_tf_dim_ordering_tf_kernels_notop.h5\n",
      "\u001b[1m94765736/94765736\u001b[0m \u001b[32m━━━━━━━━━━━━━━━━━━━━\u001b[0m\u001b[37m\u001b[0m \u001b[1m0s\u001b[0m 0us/step\n",
      "Epoch 1/5\n",
      "\u001b[1m1563/1563\u001b[0m \u001b[32m━━━━━━━━━━━━━━━━━━━━\u001b[0m\u001b[37m\u001b[0m \u001b[1m187s\u001b[0m 111ms/step - accuracy: 0.1330 - loss: 2.2919 - val_accuracy: 0.1902 - val_loss: 2.0982\n",
      "Epoch 2/5\n",
      "\u001b[1m1563/1563\u001b[0m \u001b[32m━━━━━━━━━━━━━━━━━━━━\u001b[0m\u001b[37m\u001b[0m \u001b[1m169s\u001b[0m 108ms/step - accuracy: 0.2345 - loss: 2.0250 - val_accuracy: 0.2571 - val_loss: 1.9617\n",
      "Epoch 3/5\n",
      "\u001b[1m1563/1563\u001b[0m \u001b[32m━━━━━━━━━━━━━━━━━━━━\u001b[0m\u001b[37m\u001b[0m \u001b[1m185s\u001b[0m 97ms/step - accuracy: 0.2578 - loss: 1.9542 - val_accuracy: 0.2774 - val_loss: 1.9242\n",
      "Epoch 4/5\n",
      "\u001b[1m1563/1563\u001b[0m \u001b[32m━━━━━━━━━━━━━━━━━━━━\u001b[0m\u001b[37m\u001b[0m \u001b[1m154s\u001b[0m 98ms/step - accuracy: 0.2758 - loss: 1.9184 - val_accuracy: 0.2980 - val_loss: 1.8834\n",
      "Epoch 5/5\n",
      "\u001b[1m1563/1563\u001b[0m \u001b[32m━━━━━━━━━━━━━━━━━━━━\u001b[0m\u001b[37m\u001b[0m \u001b[1m217s\u001b[0m 108ms/step - accuracy: 0.2959 - loss: 1.8822 - val_accuracy: 0.3058 - val_loss: 1.8590\n"
     ]
    },
    {
     "data": {
      "text/plain": [
       "<keras.src.callbacks.history.History at 0x7df9cc1610d0>"
      ]
     },
     "execution_count": 4,
     "metadata": {},
     "output_type": "execute_result"
    }
   ],
   "source": [
    "from tensorflow.keras.applications import ResNet50\n",
    "from tensorflow.keras.applications.resnet import preprocess_input\n",
    "from tensorflow.keras import layers, models\n",
    "import tensorflow as tf\n",
    "from tensorflow.keras.utils import to_categorical\n",
    "\n",
    "# Preprocess function for ResNet\n",
    "def preprocess_resnet(image, label):\n",
    "    image = tf.image.resize(image, (224, 224))\n",
    "    image = preprocess_input(image)\n",
    "    return image, label\n",
    "\n",
    "# Create tf.data pipelines for batch-wise loading and resizing\n",
    "BATCH_SIZE = 32\n",
    "\n",
    "train_ds = tf.data.Dataset.from_tensor_slices((x_train, y_train_cat))\n",
    "train_ds = train_ds.map(preprocess_resnet, num_parallel_calls=tf.data.AUTOTUNE).batch(BATCH_SIZE).prefetch(tf.data.AUTOTUNE)\n",
    "\n",
    "test_ds = tf.data.Dataset.from_tensor_slices((x_test, y_test_cat))\n",
    "test_ds = test_ds.map(preprocess_resnet, num_parallel_calls=tf.data.AUTOTUNE).batch(BATCH_SIZE).prefetch(tf.data.AUTOTUNE)\n",
    "\n",
    "# Load pretrained ResNet\n",
    "base_resnet = ResNet50(weights='imagenet', include_top=False, input_shape=(224, 224, 3))\n",
    "base_resnet.trainable = False\n",
    "\n",
    "# Define model\n",
    "resnet_model = models.Sequential([\n",
    "    base_resnet,\n",
    "    layers.GlobalAveragePooling2D(),\n",
    "    layers.Dense(256, activation='relu'),\n",
    "    layers.Dense(10, activation='softmax')\n",
    "])\n",
    "\n",
    "# Compile and train\n",
    "resnet_model.compile(optimizer='adam', loss='categorical_crossentropy', metrics=['accuracy'])\n",
    "resnet_model.fit(train_ds, epochs=5, validation_data=test_ds)\n"
   ]
  },
  {
   "cell_type": "markdown",
   "id": "97c076d9-b74d-44ad-8792-ac0ee97ea15a",
   "metadata": {
    "id": "97c076d9-b74d-44ad-8792-ac0ee97ea15a"
   },
   "source": [
    "# Pre-trained Inception Model"
   ]
  },
  {
   "cell_type": "code",
   "execution_count": 6,
   "id": "bc798dfe-46f8-4c51-a7f3-07763c1c3f1e",
   "metadata": {
    "colab": {
     "base_uri": "https://localhost:8080/"
    },
    "executionInfo": {
     "elapsed": 370880,
     "status": "ok",
     "timestamp": 1750958578025,
     "user": {
      "displayName": "Deepak Kalita",
      "userId": "08467293064898307531"
     },
     "user_tz": -330
    },
    "id": "bc798dfe-46f8-4c51-a7f3-07763c1c3f1e",
    "outputId": "ba2e10e3-4638-4c26-cd39-39112245e247"
   },
   "outputs": [
    {
     "name": "stdout",
     "output_type": "stream",
     "text": [
      "Downloading data from https://storage.googleapis.com/tensorflow/keras-applications/inception_v3/inception_v3_weights_tf_dim_ordering_tf_kernels_notop.h5\n",
      "\u001b[1m87910968/87910968\u001b[0m \u001b[32m━━━━━━━━━━━━━━━━━━━━\u001b[0m\u001b[37m\u001b[0m \u001b[1m1s\u001b[0m 0us/step\n",
      "Epoch 1/5\n",
      "\u001b[1m3125/3125\u001b[0m \u001b[32m━━━━━━━━━━━━━━━━━━━━\u001b[0m\u001b[37m\u001b[0m \u001b[1m241s\u001b[0m 72ms/step - accuracy: 0.1371 - loss: 2.2677 - val_accuracy: 0.2235 - val_loss: 2.0848\n",
      "Epoch 2/5\n",
      "\u001b[1m3125/3125\u001b[0m \u001b[32m━━━━━━━━━━━━━━━━━━━━\u001b[0m\u001b[37m\u001b[0m \u001b[1m257s\u001b[0m 73ms/step - accuracy: 0.2349 - loss: 2.0110 - val_accuracy: 0.2587 - val_loss: 1.9335\n",
      "Epoch 3/5\n",
      "\u001b[1m3125/3125\u001b[0m \u001b[32m━━━━━━━━━━━━━━━━━━━━\u001b[0m\u001b[37m\u001b[0m \u001b[1m263s\u001b[0m 73ms/step - accuracy: 0.2590 - loss: 1.9013 - val_accuracy: 0.2725 - val_loss: 1.8782\n",
      "Epoch 4/5\n",
      "\u001b[1m3125/3125\u001b[0m \u001b[32m━━━━━━━━━━━━━━━━━━━━\u001b[0m\u001b[37m\u001b[0m \u001b[1m262s\u001b[0m 73ms/step - accuracy: 0.2691 - loss: 1.8585 - val_accuracy: 0.2755 - val_loss: 1.8489\n",
      "Epoch 5/5\n",
      "\u001b[1m3125/3125\u001b[0m \u001b[32m━━━━━━━━━━━━━━━━━━━━\u001b[0m\u001b[37m\u001b[0m \u001b[1m259s\u001b[0m 72ms/step - accuracy: 0.2750 - loss: 1.8345 - val_accuracy: 0.2814 - val_loss: 1.8300\n"
     ]
    },
    {
     "data": {
      "text/plain": [
       "<keras.src.callbacks.history.History at 0x7df95ca8f010>"
      ]
     },
     "execution_count": 6,
     "metadata": {},
     "output_type": "execute_result"
    }
   ],
   "source": [
    "from tensorflow.keras.applications import InceptionV3\n",
    "from tensorflow.keras.applications.inception_v3 import preprocess_input as inception_preprocess\n",
    "from tensorflow.keras import layers, models\n",
    "import tensorflow as tf\n",
    "from tensorflow.keras.utils import to_categorical\n",
    "\n",
    "# Resize + preprocess per sample (safe)\n",
    "def preprocess_inception(image, label):\n",
    "    image = tf.image.resize(image, (299, 299))\n",
    "    image = inception_preprocess(image)\n",
    "    return image, label\n",
    "\n",
    "# Create tf.data pipeline (memory-safe)\n",
    "BATCH_SIZE = 16  # Use small batch size for 299x299 inputs\n",
    "\n",
    "train_ds = tf.data.Dataset.from_tensor_slices((x_train, y_train_cat))\n",
    "train_ds = train_ds.map(preprocess_inception).batch(BATCH_SIZE).prefetch(tf.data.AUTOTUNE)\n",
    "\n",
    "test_ds = tf.data.Dataset.from_tensor_slices((x_test, y_test_cat))\n",
    "test_ds = test_ds.map(preprocess_inception).batch(BATCH_SIZE).prefetch(tf.data.AUTOTUNE)\n",
    "\n",
    "# Load pre-trained InceptionV3\n",
    "base_inception = InceptionV3(weights='imagenet', include_top=False, input_shape=(299, 299, 3))\n",
    "base_inception.trainable = False\n",
    "\n",
    "# Build the model\n",
    "inception_model = models.Sequential([\n",
    "    base_inception,\n",
    "    layers.GlobalAveragePooling2D(),\n",
    "    layers.Dense(256, activation='relu'),\n",
    "    layers.Dense(10, activation='softmax')\n",
    "])\n",
    "\n",
    "# Compile and train\n",
    "inception_model.compile(optimizer='adam', loss='categorical_crossentropy', metrics=['accuracy'])\n",
    "inception_model.fit(train_ds, epochs=5, validation_data=test_ds)\n"
   ]
  },
  {
   "cell_type": "markdown",
   "id": "51078a58-c8ba-4fc4-97dc-50fdefeb644d",
   "metadata": {
    "id": "51078a58-c8ba-4fc4-97dc-50fdefeb644d"
   },
   "source": [
    "# Custom Model Architecture"
   ]
  },
  {
   "cell_type": "code",
   "execution_count": 7,
   "id": "7df7cb99-900a-4b70-94fa-b91059c626e7",
   "metadata": {
    "colab": {
     "base_uri": "https://localhost:8080/"
    },
    "executionInfo": {
     "elapsed": 26588,
     "status": "ok",
     "timestamp": 1750958766727,
     "user": {
      "displayName": "Deepak Kalita",
      "userId": "08467293064898307531"
     },
     "user_tz": -330
    },
    "id": "7df7cb99-900a-4b70-94fa-b91059c626e7",
    "outputId": "ea1e41b5-2148-4b44-aa5b-ca0441a8d239"
   },
   "outputs": [
    {
     "name": "stdout",
     "output_type": "stream",
     "text": [
      "Epoch 1/5\n",
      "\u001b[1m782/782\u001b[0m \u001b[32m━━━━━━━━━━━━━━━━━━━━\u001b[0m\u001b[37m\u001b[0m \u001b[1m8s\u001b[0m 7ms/step - accuracy: 0.3693 - loss: 1.7490 - val_accuracy: 0.5232 - val_loss: 1.3458\n",
      "Epoch 2/5\n",
      "\u001b[1m782/782\u001b[0m \u001b[32m━━━━━━━━━━━━━━━━━━━━\u001b[0m\u001b[37m\u001b[0m \u001b[1m3s\u001b[0m 4ms/step - accuracy: 0.5648 - loss: 1.2356 - val_accuracy: 0.6028 - val_loss: 1.1274\n",
      "Epoch 3/5\n",
      "\u001b[1m782/782\u001b[0m \u001b[32m━━━━━━━━━━━━━━━━━━━━\u001b[0m\u001b[37m\u001b[0m \u001b[1m6s\u001b[0m 4ms/step - accuracy: 0.6197 - loss: 1.0870 - val_accuracy: 0.6283 - val_loss: 1.0685\n",
      "Epoch 4/5\n",
      "\u001b[1m782/782\u001b[0m \u001b[32m━━━━━━━━━━━━━━━━━━━━\u001b[0m\u001b[37m\u001b[0m \u001b[1m3s\u001b[0m 4ms/step - accuracy: 0.6561 - loss: 0.9896 - val_accuracy: 0.6353 - val_loss: 1.0465\n",
      "Epoch 5/5\n",
      "\u001b[1m782/782\u001b[0m \u001b[32m━━━━━━━━━━━━━━━━━━━━\u001b[0m\u001b[37m\u001b[0m \u001b[1m3s\u001b[0m 4ms/step - accuracy: 0.6774 - loss: 0.9264 - val_accuracy: 0.6626 - val_loss: 0.9751\n"
     ]
    },
    {
     "data": {
      "text/plain": [
       "<keras.src.callbacks.history.History at 0x7df94aed92d0>"
      ]
     },
     "execution_count": 7,
     "metadata": {},
     "output_type": "execute_result"
    }
   ],
   "source": [
    "def build_custom_model():\n",
    "    model = models.Sequential([\n",
    "        layers.Conv2D(16, (3,3), activation='relu', input_shape=(32,32,3)),\n",
    "        layers.MaxPooling2D((2,2)),\n",
    "        layers.Conv2D(32, (3,3), activation='relu'),\n",
    "        layers.MaxPooling2D((2,2)),\n",
    "        layers.Flatten(),\n",
    "        layers.Dense(128, activation='relu'),\n",
    "        layers.Dense(10, activation='softmax')\n",
    "    ])\n",
    "    return model\n",
    "\n",
    "custom_model = build_custom_model()\n",
    "custom_model.compile(optimizer='adam', loss='categorical_crossentropy', metrics=['accuracy'])\n",
    "custom_model.fit(x_train, y_train_cat, epochs=5, batch_size=64, validation_data=(x_test, y_test_cat))\n"
   ]
  },
  {
   "cell_type": "markdown",
   "id": "fd0bb87e-3d1f-4dd5-91f9-c2528cfde455",
   "metadata": {
    "id": "fd0bb87e-3d1f-4dd5-91f9-c2528cfde455"
   },
   "source": [
    "#  For CNN, AlexNet, or Custom Model"
   ]
  },
  {
   "cell_type": "code",
   "execution_count": 8,
   "id": "846d1028-1074-45e8-876b-ed8ba336299b",
   "metadata": {
    "executionInfo": {
     "elapsed": 11,
     "status": "ok",
     "timestamp": 1750958772697,
     "user": {
      "displayName": "Deepak Kalita",
      "userId": "08467293064898307531"
     },
     "user_tz": -330
    },
    "id": "846d1028-1074-45e8-876b-ed8ba336299b"
   },
   "outputs": [],
   "source": [
    "import matplotlib.pyplot as plt\n",
    "class_names = ['airplane','automobile','bird','cat','deer','dog','frog','horse','ship','truck']\n",
    "\n",
    "def test_model_prediction(model, x_test, y_test, class_names, num_samples=5):\n",
    "    import random\n",
    "    indices = random.sample(range(len(x_test)), num_samples)\n",
    "    sample_images = x_test[indices]\n",
    "    sample_labels = y_test[indices]\n",
    "\n",
    "    predictions = model.predict(sample_images)\n",
    "\n",
    "    for i in range(num_samples):\n",
    "        plt.imshow(sample_images[i])\n",
    "        plt.axis('off')\n",
    "        true_label = class_names[int(sample_labels[i])]\n",
    "        pred_label = class_names[np.argmax(predictions[i])]\n",
    "        plt.title(f\"Predicted: {pred_label}, Actual: {true_label}\")\n",
    "        plt.show()\n",
    "\n",
    "# Use this with:\n",
    "# test_model_prediction(cnn_model, x_test, y_test, class_names)\n",
    "# test_model_prediction(alexnet_model, x_test, y_test, class_names)\n",
    "# test_model_prediction(custom_model, x_test, y_test, class_names)\n"
   ]
  },
  {
   "cell_type": "markdown",
   "id": "2b4dbb04-bd0c-4361-9038-355e90c4a27f",
   "metadata": {
    "id": "2b4dbb04-bd0c-4361-9038-355e90c4a27f"
   },
   "source": [
    "#  For ResNet Model (224×224 resized)"
   ]
  },
  {
   "cell_type": "code",
   "execution_count": 9,
   "id": "d6096c89-f79b-465d-822b-3a900e62f09e",
   "metadata": {
    "executionInfo": {
     "elapsed": 50,
     "status": "ok",
     "timestamp": 1750958779701,
     "user": {
      "displayName": "Deepak Kalita",
      "userId": "08467293064898307531"
     },
     "user_tz": -330
    },
    "id": "d6096c89-f79b-465d-822b-3a900e62f09e"
   },
   "outputs": [],
   "source": [
    "def test_resnet_model(model, x_test_resized, y_test, class_names, num_samples=5):\n",
    "    import random\n",
    "    indices = random.sample(range(len(x_test_resized)), num_samples)\n",
    "    sample_images = x_test_resized.numpy()[indices]\n",
    "    sample_labels = y_test[indices]\n",
    "\n",
    "    predictions = model.predict(sample_images)\n",
    "\n",
    "    for i in range(num_samples):\n",
    "        plt.imshow(sample_images[i].astype(\"uint8\"))\n",
    "        plt.axis('off')\n",
    "        true_label = class_names[int(sample_labels[i])]\n",
    "        pred_label = class_names[np.argmax(predictions[i])]\n",
    "        plt.title(f\"Predicted: {pred_label}, Actual: {true_label}\")\n",
    "        plt.show()\n",
    "\n",
    "# test_resnet_model(resnet_model, x_test_resized, y_test, class_names)\n"
   ]
  },
  {
   "cell_type": "markdown",
   "id": "7561efbe-5328-44e8-99c6-4bf0b79faff4",
   "metadata": {
    "id": "7561efbe-5328-44e8-99c6-4bf0b79faff4"
   },
   "source": [
    "#  For Inception Model (299×299 + preprocessing)"
   ]
  },
  {
   "cell_type": "code",
   "execution_count": 10,
   "id": "e5ff1631-7695-449b-a71f-a9559bce3d97",
   "metadata": {
    "executionInfo": {
     "elapsed": 8,
     "status": "ok",
     "timestamp": 1750958785088,
     "user": {
      "displayName": "Deepak Kalita",
      "userId": "08467293064898307531"
     },
     "user_tz": -330
    },
    "id": "e5ff1631-7695-449b-a71f-a9559bce3d97"
   },
   "outputs": [],
   "source": [
    "def test_inception_model(model, x_test_inc, y_test, class_names, num_samples=5):\n",
    "    import random\n",
    "    indices = random.sample(range(len(x_test_inc)), num_samples)\n",
    "    sample_images = x_test_inc.numpy()[indices]\n",
    "    sample_labels = y_test[indices]\n",
    "\n",
    "    preprocessed_images = inception_preprocess(sample_images)\n",
    "    predictions = model.predict(preprocessed_images)\n",
    "\n",
    "    for i in range(num_samples):\n",
    "        plt.imshow(sample_images[i].astype(\"uint8\"))\n",
    "        plt.axis('off')\n",
    "        true_label = class_names[int(sample_labels[i])]\n",
    "        pred_label = class_names[np.argmax(predictions[i])]\n",
    "        plt.title(f\"Predicted: {pred_label}, Actual: {true_label}\")\n",
    "        plt.show()\n",
    "\n",
    "# test_inception_model(inception_model, x_test_inc, y_test, class_names)\n"
   ]
  },
  {
   "cell_type": "code",
   "execution_count": 14,
   "id": "225cd973-6df1-49b4-b383-00e6b0a6195c",
   "metadata": {
    "colab": {
     "base_uri": "https://localhost:8080/",
     "height": 1000
    },
    "executionInfo": {
     "elapsed": 436,
     "status": "ok",
     "timestamp": 1750959234168,
     "user": {
      "displayName": "Deepak Kalita",
      "userId": "08467293064898307531"
     },
     "user_tz": -330
    },
    "id": "225cd973-6df1-49b4-b383-00e6b0a6195c",
    "outputId": "755ca345-400c-4479-ecaa-6558888d03d7"
   },
   "outputs": [
    {
     "name": "stdout",
     "output_type": "stream",
     "text": [
      "\u001b[1m1/1\u001b[0m \u001b[32m━━━━━━━━━━━━━━━━━━━━\u001b[0m\u001b[37m\u001b[0m \u001b[1m0s\u001b[0m 43ms/step\n"
     ]
    },
    {
     "name": "stderr",
     "output_type": "stream",
     "text": [
      "/tmp/ipython-input-8-3426817196.py:15: DeprecationWarning: Conversion of an array with ndim > 0 to a scalar is deprecated, and will error in future. Ensure you extract a single element from your array before performing this operation. (Deprecated NumPy 1.25.)\n",
      "  true_label = class_names[int(sample_labels[i])]\n"
     ]
    },
    {
     "data": {
      "image/png": "[encoded data removed]",
      "text/plain": [
       "<Figure size 640x480 with 1 Axes>"
      ]
     },
     "metadata": {},
     "output_type": "display_data"
    },
    {
     "data": {
      "image/png": "[encoded data removed]",
      "text/plain": [
       "<Figure size 640x480 with 1 Axes>"
      ]
     },
     "metadata": {},
     "output_type": "display_data"
    },
    {
     "data": {
      "image/png": "[encoded data removed]",
      "text/plain": [
       "<Figure size 640x480 with 1 Axes>"
      ]
     },
     "metadata": {},
     "output_type": "display_data"
    },
    {
     "data": {
      "image/png": "[encoded data removed]",
      "text/plain": [
       "<Figure size 640x480 with 1 Axes>"
      ]
     },
     "metadata": {},
     "output_type": "display_data"
    },
    {
     "data": {
      "image/png": "[encoded data removed]",
      "text/plain": [
       "<Figure size 640x480 with 1 Axes>"
      ]
     },
     "metadata": {},
     "output_type": "display_data"
    }
   ],
   "source": [
    "test_model_prediction(cnn_model, x_test, y_test, class_names)"
   ]
  }
 ],
 "metadata": {
  "accelerator": "GPU",
  "colab": {
   "gpuType": "T4",
   "provenance": [
    {
     "file_id": "1mwG_fFvxx3cfcMvU2T5_x1-IHThU7cUY",
     "timestamp": 1750959512958
    }
   ]
  },
  "kernelspec": {
   "display_name": "Python 3 (ipykernel)",
   "language": "python",
   "name": "python3"
  },
  "language_info": {
   "codemirror_mode": {
    "name": "ipython",
    "version": 3
   },
   "file_extension": ".py",
   "mimetype": "text/x-python",
   "name": "python",
   "nbconvert_exporter": "python",
   "pygments_lexer": "ipython3",
   "version": "3.11.7"
  }
 },
 "nbformat": 4,
 "nbformat_minor": 5
}
